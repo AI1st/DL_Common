{
 "cells": [
  {
   "cell_type": "code",
   "execution_count": 11,
   "metadata": {
    "collapsed": true,
    "ExecuteTime": {
     "start_time": "2024-06-01T04:42:46.596318Z",
     "end_time": "2024-06-01T04:42:46.622050Z"
    }
   },
   "outputs": [
    {
     "name": "stdout",
     "output_type": "stream",
     "text": [
      "Linear(in_features=10, out_features=10, bias=True)\n"
     ]
    }
   ],
   "source": [
    "import torch\n",
    "import torch.nn as nn\n",
    "\n",
    "# 假设我们有一个模型\n",
    "class Net(nn.Module):\n",
    "    def __init__(self):\n",
    "        super(Net, self).__init__()\n",
    "        self.layer1 = nn.Linear(10, 10)\n",
    "        self.layer2 = nn.Linear(10, 10)\n",
    "        self.layer3 = nn.Linear(10, 10)\n",
    "        self.layer4 = nn.Linear(10, 10)\n",
    "\n",
    "    def forward(self, x):\n",
    "        # 一个假想的前向传递过程\n",
    "        return x\n",
    "\n",
    "# 创建模型实例\n",
    "model = Net()\n",
    "\n",
    "# 设置学习率和beta值\n",
    "initial_lr = 0.1\n",
    "beta = 0.1\n",
    "\n",
    "# 获取所有子模块的列表\n",
    "modules = list(model.children())\n",
    "\n",
    "print(modules[0])\n",
    "\n",
    "# 只选取最后3个模块进行优化\n",
    "num_layers_to_optimize = min(3, len(modules))\n",
    "layers_to_optimize = modules[-num_layers_to_optimize:]\n",
    "\n",
    "# 创建参数组和对应的学习率\n",
    "params_to_optimize = [{'params': layer.parameters(), 'lr': initial_lr * (beta ** i)}\n",
    "                      for i, layer in enumerate(layers_to_optimize)]\n",
    "\n",
    "# 创建优化器（例如Adam）\n",
    "optimizer = torch.optim.Adam(params_to_optimize)\n",
    "\n",
    "# 现在优化器已经设置了指数递减的学习率，只针对最后三个模块"
   ]
  },
  {
   "cell_type": "code",
   "execution_count": 3,
   "outputs": [],
   "source": [
    "from Common.Core.Innovations.DynaNN.v3_partial_training.dyna_nn_v3  import LaplaceActivation, \\\n",
    "    DynamicNN1d, plot_fitting_result, dyna_train, torch, gpu, nn, cpu"
   ],
   "metadata": {
    "collapsed": false,
    "ExecuteTime": {
     "start_time": "2024-06-01T04:41:02.221087Z",
     "end_time": "2024-06-01T04:41:03.578010Z"
    }
   }
  },
  {
   "cell_type": "code",
   "execution_count": 13,
   "outputs": [],
   "source": [
    "# 初始化动态神经网络\n",
    "dyna_nn = DynamicNN1d(1, 10, 1)\n",
    "dyna_nn.set_step_optimizer(lr=0.01)\n",
    "dyna_nn.set_criterion(nn.MSELoss())\n",
    "dyna_nn.set_device(gpu())"
   ],
   "metadata": {
    "collapsed": false,
    "ExecuteTime": {
     "start_time": "2024-06-01T04:43:24.458919Z",
     "end_time": "2024-06-01T04:43:24.474527Z"
    }
   }
  },
  {
   "cell_type": "code",
   "execution_count": 14,
   "outputs": [],
   "source": [
    "dyna_nn.add_layer(10, LaplaceActivation, LaplaceActivation)\n",
    "dyna_nn.add_layer(20, LaplaceActivation, LaplaceActivation)\n",
    "dyna_nn.add_layer(30, LaplaceActivation, LaplaceActivation)"
   ],
   "metadata": {
    "collapsed": false,
    "ExecuteTime": {
     "start_time": "2024-06-01T04:43:25.012388Z",
     "end_time": "2024-06-01T04:43:25.037299Z"
    }
   }
  },
  {
   "cell_type": "code",
   "execution_count": 15,
   "outputs": [],
   "source": [
    "modules = list(dyna_nn.children())"
   ],
   "metadata": {
    "collapsed": false,
    "ExecuteTime": {
     "start_time": "2024-06-01T04:43:25.242950Z",
     "end_time": "2024-06-01T04:43:25.254461Z"
    }
   }
  },
  {
   "cell_type": "code",
   "execution_count": 16,
   "outputs": [
    {
     "data": {
      "text/plain": "[ModuleList(\n   (0): DynaSInit(\n     (linear1): Linear(in_features=1, out_features=10, bias=False)\n     (linear2): Linear(in_features=10, out_features=1, bias=True)\n     (bn): BatchNorm1d(10, eps=1e-05, momentum=0.1, affine=True, track_running_stats=True)\n     (activation): LaplaceActivation()\n   )\n   (1): SingleHiddenLayer1d(\n     (bn_in): BatchNorm1d(11, eps=1e-05, momentum=0.1, affine=True, track_running_stats=True)\n     (a_in): LaplaceActivation()\n     (linear1): Linear(in_features=11, out_features=10, bias=False)\n     (bn_out): BatchNorm1d(10, eps=1e-05, momentum=0.1, affine=True, track_running_stats=True)\n     (a_out): LaplaceActivation()\n     (dropout): Dropout(p=0.5, inplace=False)\n     (linear2): Linear(in_features=10, out_features=1, bias=True)\n   )\n   (2): SingleHiddenLayer1d(\n     (bn_in): BatchNorm1d(21, eps=1e-05, momentum=0.1, affine=True, track_running_stats=True)\n     (a_in): LaplaceActivation()\n     (linear1): Linear(in_features=21, out_features=20, bias=False)\n     (bn_out): BatchNorm1d(20, eps=1e-05, momentum=0.1, affine=True, track_running_stats=True)\n     (a_out): LaplaceActivation()\n     (dropout): Dropout(p=0.5, inplace=False)\n     (linear2): Linear(in_features=20, out_features=1, bias=True)\n   )\n   (3): SingleHiddenLayer1d(\n     (bn_in): BatchNorm1d(41, eps=1e-05, momentum=0.1, affine=True, track_running_stats=True)\n     (a_in): LaplaceActivation()\n     (linear1): Linear(in_features=41, out_features=30, bias=False)\n     (bn_out): BatchNorm1d(30, eps=1e-05, momentum=0.1, affine=True, track_running_stats=True)\n     (a_out): LaplaceActivation()\n     (dropout): Dropout(p=0.5, inplace=False)\n     (linear2): Linear(in_features=30, out_features=1, bias=True)\n   )\n ),\n MSELoss()]"
     },
     "execution_count": 16,
     "metadata": {},
     "output_type": "execute_result"
    }
   ],
   "source": [
    "modules"
   ],
   "metadata": {
    "collapsed": false,
    "ExecuteTime": {
     "start_time": "2024-06-01T04:43:25.673396Z",
     "end_time": "2024-06-01T04:43:25.708958Z"
    }
   }
  },
  {
   "cell_type": "code",
   "execution_count": 18,
   "outputs": [
    {
     "name": "stdout",
     "output_type": "stream",
     "text": [
      "Linear(in_features=40, out_features=40, bias=True)\n",
      "Linear(in_features=30, out_features=40, bias=True)\n",
      "ReLU()\n"
     ]
    }
   ],
   "source": [
    "import torch.nn as nn\n",
    "# 创建一个ModuleList示例\n",
    "module_list = nn.ModuleList([\n",
    "    nn.Linear(10, 20),\n",
    "    nn.ReLU(),\n",
    "    nn.Linear(20, 30),\n",
    "    nn.ReLU(),\n",
    "    nn.Linear(30, 40),\n",
    "    nn.Linear(40, 40)\n",
    "])\n",
    "# 假设我们想要取出最后3个module，并按相反顺序输出\n",
    "m = 3\n",
    "selected_modules_reversed = module_list[-1:-m-1:-1]  # 从倒数第一个开始，到倒数第m个停止，并且步长为-1\n",
    "# 验证输出\n",
    "for module in selected_modules_reversed:\n",
    "    print(module)"
   ],
   "metadata": {
    "collapsed": false,
    "ExecuteTime": {
     "start_time": "2024-06-01T06:15:25.398993Z",
     "end_time": "2024-06-01T06:15:25.408994Z"
    }
   }
  },
  {
   "cell_type": "code",
   "execution_count": null,
   "outputs": [],
   "source": [],
   "metadata": {
    "collapsed": false
   }
  }
 ],
 "metadata": {
  "kernelspec": {
   "display_name": "Python 3",
   "language": "python",
   "name": "python3"
  },
  "language_info": {
   "codemirror_mode": {
    "name": "ipython",
    "version": 2
   },
   "file_extension": ".py",
   "mimetype": "text/x-python",
   "name": "python",
   "nbconvert_exporter": "python",
   "pygments_lexer": "ipython2",
   "version": "2.7.6"
  }
 },
 "nbformat": 4,
 "nbformat_minor": 0
}
